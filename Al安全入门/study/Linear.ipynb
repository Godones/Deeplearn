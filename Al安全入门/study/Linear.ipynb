{
 "metadata": {
  "language_info": {
   "codemirror_mode": {
    "name": "ipython",
    "version": 3
   },
   "file_extension": ".py",
   "mimetype": "text/x-python",
   "name": "python",
   "nbconvert_exporter": "python",
   "pygments_lexer": "ipython3",
   "version": "3.7.8-final"
  },
  "orig_nbformat": 2,
  "kernelspec": {
   "name": "python3",
   "language": "python",
   "display_name": "Python 3"
  }
 },
 "nbformat": 4,
 "nbformat_minor": 2,
 "cells": [
  {
   "cell_type": "code",
   "execution_count": 129,
   "metadata": {},
   "outputs": [],
   "source": [
    "import torch\n",
    "import torch.nn as nn"
   ]
  },
  {
   "cell_type": "code",
   "execution_count": 130,
   "metadata": {},
   "outputs": [],
   "source": [
    "class Model(nn.Module):\n",
    "    def __init__(self,ndim):\n",
    "        super(Model,self).__init__()\n",
    "        self.ndim = ndim\n",
    "        self.weight = nn.Parameter(torch.randn(ndim,1))\n",
    "        self.bias = nn.Parameter(torch.randn(1))\n",
    "    def forward(self,x):\n",
    "        return x.mm(self.weight) + self.bias\n"
   ]
  },
  {
   "cell_type": "code",
   "execution_count": 154,
   "metadata": {},
   "outputs": [
    {
     "output_type": "execute_result",
     "data": {
      "text/plain": [
       "(tensor([[-0.3881,  0.5622, -1.5338, -0.6530,  1.7952],\n",
       "         [ 1.2101,  0.8145, -0.4427,  1.5764, -0.3484],\n",
       "         [-1.2987,  0.7560,  0.5950,  1.6613, -0.7202]]),\n",
       " tensor([[-0.3103],\n",
       "         [ 0.3733],\n",
       "         [ 0.6641]], grad_fn=<AddBackward0>))"
      ]
     },
     "metadata": {},
     "execution_count": 154
    }
   ],
   "source": [
    "f = Model(5)\n",
    "data = torch.randn(3,5)\n",
    "data,f(data)"
   ]
  },
  {
   "cell_type": "code",
   "execution_count": 132,
   "metadata": {},
   "outputs": [
    {
     "output_type": "execute_result",
     "data": {
      "text/plain": [
       "[('weight',\n",
       "  Parameter containing:\n",
       "  tensor([[-1.3630],\n",
       "          [ 1.1085],\n",
       "          [-0.0539],\n",
       "          [-0.3535],\n",
       "          [ 0.4077]], requires_grad=True)),\n",
       " ('bias',\n",
       "  Parameter containing:\n",
       "  tensor([-0.0339], requires_grad=True))]"
      ]
     },
     "metadata": {},
     "execution_count": 132
    }
   ],
   "source": [
    "list(f.named_parameters())"
   ]
  },
  {
   "cell_type": "code",
   "execution_count": 133,
   "metadata": {},
   "outputs": [
    {
     "output_type": "execute_result",
     "data": {
      "text/plain": [
       "[Parameter containing:\n",
       " tensor([[-1.3630],\n",
       "         [ 1.1085],\n",
       "         [-0.0539],\n",
       "         [-0.3535],\n",
       "         [ 0.4077]], device='cuda:0', requires_grad=True),\n",
       " Parameter containing:\n",
       " tensor([-0.0339], device='cuda:0', requires_grad=True)]"
      ]
     },
     "metadata": {},
     "execution_count": 133
    }
   ],
   "source": [
    "f.cuda()\n",
    "list(f.parameters())"
   ]
  },
  {
   "cell_type": "code",
   "execution_count": 134,
   "metadata": {},
   "outputs": [
    {
     "output_type": "execute_result",
     "data": {
      "text/plain": [
       "tensor([[-0.1171, -0.5964,  0.1782,  0.5529],\n",
       "        [ 0.9731, -0.7841, -0.9198,  0.0919],\n",
       "        [-0.4664, -1.1399, -0.0901, -0.4642]], requires_grad=True)"
      ]
     },
     "metadata": {},
     "execution_count": 134
    }
   ],
   "source": [
    "t1 = torch.randn(3,4,requires_grad=True)\n",
    "t1"
   ]
  },
  {
   "cell_type": "code",
   "execution_count": 135,
   "metadata": {},
   "outputs": [
    {
     "output_type": "execute_result",
     "data": {
      "text/plain": [
       "tensor(-2.7820, grad_fn=<SumBackward0>)"
      ]
     },
     "metadata": {},
     "execution_count": 135
    }
   ],
   "source": [
    "t2 = t1.sum()\n",
    "t2"
   ]
  },
  {
   "cell_type": "code",
   "execution_count": 136,
   "metadata": {},
   "outputs": [],
   "source": [
    "with torch.no_grad():\n",
    "    t2 = t1.sum()\n",
    "    t2"
   ]
  },
  {
   "cell_type": "code",
   "execution_count": 137,
   "metadata": {},
   "outputs": [
    {
     "output_type": "execute_result",
     "data": {
      "text/plain": [
       "tensor(-2.7820)"
      ]
     },
     "metadata": {},
     "execution_count": 137
    }
   ],
   "source": [
    "t2"
   ]
  },
  {
   "cell_type": "code",
   "execution_count": 139,
   "metadata": {},
   "outputs": [
    {
     "output_type": "execute_result",
     "data": {
      "text/plain": [
       "(tensor(-2.7820, grad_fn=<SumBackward0>), tensor(-2.7820))"
      ]
     },
     "metadata": {},
     "execution_count": 139
    }
   ],
   "source": [
    "t1.sum(),t1.sum().detach()"
   ]
  },
  {
   "cell_type": "code",
   "execution_count": 147,
   "metadata": {},
   "outputs": [
    {
     "output_type": "execute_result",
     "data": {
      "text/plain": [
       "(tensor([ 0.8212,  0.0810, -0.8491, -2.3750, -0.6127], requires_grad=True),\n",
       " tensor([ 1.4719, -0.7438,  0.6076, -0.5703,  0.3520], requires_grad=True),\n",
       " tensor(1.4827, grad_fn=<MseLossBackward>))"
      ]
     },
     "metadata": {},
     "execution_count": 147
    }
   ],
   "source": [
    "t1 = torch.randn(5,requires_grad=True)\n",
    "t2 = torch.randn(5,requires_grad=True)\n",
    "Mse = nn.MSELoss()\n",
    "t1,t2,Mse(t1,t2)"
   ]
  },
  {
   "cell_type": "code",
   "execution_count": 153,
   "metadata": {},
   "outputs": [
    {
     "output_type": "execute_result",
     "data": {
      "text/plain": [
       "(tensor([[ 3.6414e-01, -1.1698e-01, -3.1765e-01, -1.0818e+00,  2.0205e-01,\n",
       "           1.0316e+00,  1.6758e-01, -7.5532e-04,  2.6735e-01,  1.0588e+00],\n",
       "         [-7.8210e-01, -2.2516e-01,  5.7616e-01, -8.1745e-02, -5.7181e-01,\n",
       "           1.3745e-01, -1.9697e-01,  8.0099e-02,  1.1420e-01,  4.7388e-02],\n",
       "         [ 1.7632e+00, -1.1096e+00, -4.4155e-01, -1.6864e+00, -1.9406e+00,\n",
       "          -3.1044e-01,  7.5462e-01, -1.2871e+00, -5.4319e-01,  1.4365e+00],\n",
       "         [ 7.4471e-01,  6.2845e-02, -1.4989e+00,  1.0193e+00, -3.2780e-01,\n",
       "           8.5275e-01, -8.2926e-01,  1.7788e-01,  1.0199e+00,  2.1847e-01],\n",
       "         [-2.2736e-01,  1.8530e+00, -2.4837e-01, -1.0563e+00,  1.2216e+00,\n",
       "           6.0198e-02, -1.3090e+00,  1.2300e+00,  1.6030e-01,  9.2170e-01]],\n",
       "        requires_grad=True),\n",
       " tensor([6, 6, 4, 9, 7]),\n",
       " tensor(2.7673, grad_fn=<NllLossBackward>))"
      ]
     },
     "metadata": {},
     "execution_count": 153
    }
   ],
   "source": [
    "t1 = torch.randn(5,10,requires_grad=True)\n",
    "t2 = torch.randint(0,10,(5,))\n",
    "cross = nn.CrossEntropyLoss()\n",
    "t1,t2,cross(t1,t2)"
   ]
  },
  {
   "cell_type": "code",
   "execution_count": null,
   "metadata": {},
   "outputs": [],
   "source": []
  }
 ]
}