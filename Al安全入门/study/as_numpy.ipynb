{
 "cells": [
  {
   "cell_type": "code",
   "execution_count": 1,
   "metadata": {
    "collapsed": true
   },
   "outputs": [],
   "source": [
    "from __future__ import print_function\n",
    "import torch"
   ]
  },
  {
   "cell_type": "code",
   "execution_count": 2,
   "outputs": [
    {
     "name": "stdout",
     "output_type": "stream",
     "text": [
      "tensor([[0., 0., 0.],\n",
      "        [0., 0., 0.],\n",
      "        [0., 0., 0.],\n",
      "        [0., 0., 0.],\n",
      "        [0., 0., 0.]])\n"
     ]
    }
   ],
   "source": [
    "x = torch.empty(5,3)\n",
    "print(x)"
   ],
   "metadata": {
    "collapsed": false,
    "pycharm": {
     "name": "#%%\n"
    }
   }
  },
  {
   "cell_type": "code",
   "execution_count": 3,
   "outputs": [
    {
     "data": {
      "text/plain": "tensor([[0.5234, 0.8903, 0.1754],\n        [0.3086, 0.3729, 0.2169],\n        [0.6010, 0.0754, 0.5078],\n        [0.1070, 0.6584, 0.8469],\n        [0.8423, 0.7806, 0.1284]])"
     },
     "execution_count": 3,
     "metadata": {},
     "output_type": "execute_result"
    }
   ],
   "source": [
    "x = torch.rand(5,3)\n",
    "x"
   ],
   "metadata": {
    "collapsed": false,
    "pycharm": {
     "name": "#%%\n"
    }
   }
  },
  {
   "cell_type": "code",
   "execution_count": 4,
   "outputs": [
    {
     "data": {
      "text/plain": "tensor([[0, 0, 0],\n        [0, 0, 0],\n        [0, 0, 0],\n        [0, 0, 0],\n        [0, 0, 0]])"
     },
     "execution_count": 4,
     "metadata": {},
     "output_type": "execute_result"
    }
   ],
   "source": [
    "x = torch.zeros(5,3,dtype=torch.long)\n",
    "x"
   ],
   "metadata": {
    "collapsed": false,
    "pycharm": {
     "name": "#%%\n"
    }
   }
  },
  {
   "cell_type": "code",
   "execution_count": 5,
   "outputs": [
    {
     "data": {
      "text/plain": "tensor([5.5000, 3.0000])"
     },
     "execution_count": 5,
     "metadata": {},
     "output_type": "execute_result"
    }
   ],
   "source": [
    "x = torch.Tensor([5.5, 3])\n",
    "x"
   ],
   "metadata": {
    "collapsed": false,
    "pycharm": {
     "name": "#%%\n"
    }
   }
  },
  {
   "cell_type": "code",
   "execution_count": 6,
   "outputs": [
    {
     "name": "stdout",
     "output_type": "stream",
     "text": [
      "tensor([[1., 1., 1.],\n",
      "        [1., 1., 1.],\n",
      "        [1., 1., 1.],\n",
      "        [1., 1., 1.],\n",
      "        [1., 1., 1.]], dtype=torch.float64)\n",
      "tensor([[0.5855, 0.7570, 0.2010],\n",
      "        [0.2794, 0.9470, 0.1850],\n",
      "        [0.7295, 0.6472, 0.9526],\n",
      "        [0.8987, 0.4931, 0.9583],\n",
      "        [0.5898, 0.0505, 0.3077]])\n"
     ]
    }
   ],
   "source": [
    "#根据现有的张量创建张量。 这些方法将重用输入张量的属性，例如， dtype，除非设置新的值进行覆盖\n",
    "x = x.new_ones(5,3,dtype=torch.double)\n",
    "print(x)\n",
    "x = torch.rand_like(x,dtype=torch.float)\n",
    "print(x)"
   ],
   "metadata": {
    "collapsed": false,
    "pycharm": {
     "name": "#%%\n"
    }
   }
  },
  {
   "cell_type": "code",
   "execution_count": 7,
   "outputs": [
    {
     "data": {
      "text/plain": "torch.Size([5, 3])"
     },
     "execution_count": 7,
     "metadata": {},
     "output_type": "execute_result"
    }
   ],
   "source": [
    "x.size()"
   ],
   "metadata": {
    "collapsed": false,
    "pycharm": {
     "name": "#%%\n"
    }
   }
  },
  {
   "cell_type": "code",
   "execution_count": 8,
   "outputs": [
    {
     "name": "stdout",
     "output_type": "stream",
     "text": [
      "tensor([[1.3283, 1.1914, 0.3666],\n",
      "        [1.2681, 1.6211, 0.4639],\n",
      "        [1.5742, 0.8994, 1.7054],\n",
      "        [1.7590, 0.6674, 1.2384],\n",
      "        [1.1076, 0.1027, 1.2429]])\n",
      "tensor([[1.3283, 1.1914, 0.3666],\n",
      "        [1.2681, 1.6211, 0.4639],\n",
      "        [1.5742, 0.8994, 1.7054],\n",
      "        [1.7590, 0.6674, 1.2384],\n",
      "        [1.1076, 0.1027, 1.2429]])\n"
     ]
    }
   ],
   "source": [
    "y = torch.rand(5,3)\n",
    "print(y+x)\n",
    "print(torch.add(x, y))"
   ],
   "metadata": {
    "collapsed": false,
    "pycharm": {
     "name": "#%%\n"
    }
   }
  },
  {
   "cell_type": "code",
   "execution_count": 9,
   "outputs": [
    {
     "name": "stdout",
     "output_type": "stream",
     "text": [
      "tensor([[1.3283, 1.1914, 0.3666],\n",
      "        [1.2681, 1.6211, 0.4639],\n",
      "        [1.5742, 0.8994, 1.7054],\n",
      "        [1.7590, 0.6674, 1.2384],\n",
      "        [1.1076, 0.1027, 1.2429]])\n"
     ]
    }
   ],
   "source": [
    "# 提供输出tensor作为参数\n",
    "result = torch.empty(5,3)\n",
    "torch.add(x, y, out=result)\n",
    "print(result)"
   ],
   "metadata": {
    "collapsed": false,
    "pycharm": {
     "name": "#%%\n"
    }
   }
  },
  {
   "cell_type": "code",
   "execution_count": 10,
   "outputs": [
    {
     "data": {
      "text/plain": "tensor([[1.3283, 1.1914, 0.3666],\n        [1.2681, 1.6211, 0.4639],\n        [1.5742, 0.8994, 1.7054],\n        [1.7590, 0.6674, 1.2384],\n        [1.1076, 0.1027, 1.2429]])"
     },
     "execution_count": 10,
     "metadata": {},
     "output_type": "execute_result"
    }
   ],
   "source": [
    "#任何 以``_`` 结尾的操作都会用结果替换原变量.\n",
    "y.add_(x)\n",
    "y"
   ],
   "metadata": {
    "collapsed": false,
    "pycharm": {
     "name": "#%%\n"
    }
   }
  },
  {
   "cell_type": "code",
   "execution_count": 11,
   "outputs": [
    {
     "data": {
      "text/plain": "tensor([[0.5855, 0.7570, 0.2010],\n        [0.2794, 0.9470, 0.1850],\n        [0.7295, 0.6472, 0.9526],\n        [0.8987, 0.4931, 0.9583],\n        [0.5898, 0.0505, 0.3077]])"
     },
     "execution_count": 11,
     "metadata": {},
     "output_type": "execute_result"
    }
   ],
   "source": [
    "x[:,]"
   ],
   "metadata": {
    "collapsed": false,
    "pycharm": {
     "name": "#%%\n"
    }
   }
  },
  {
   "cell_type": "code",
   "execution_count": 12,
   "outputs": [
    {
     "data": {
      "text/plain": "(torch.Size([4, 4]), torch.Size([16]), torch.Size([2, 8]))"
     },
     "execution_count": 12,
     "metadata": {},
     "output_type": "execute_result"
    }
   ],
   "source": [
    "# torch.view: 可以改变张量的维度和大小\n",
    "x = torch.randn(4,4)\n",
    "y = x.view(16)\n",
    "z = x.view(-1,8)\n",
    "x.size(),y.size(),z.size()"
   ],
   "metadata": {
    "collapsed": false,
    "pycharm": {
     "name": "#%%\n"
    }
   }
  },
  {
   "cell_type": "code",
   "execution_count": 13,
   "outputs": [
    {
     "data": {
      "text/plain": "tensor([1., 1., 1., 1., 1.])"
     },
     "execution_count": 13,
     "metadata": {},
     "output_type": "execute_result"
    }
   ],
   "source": [
    "# Torch Tensor与NumPy数组共享底层内存地址，修改一个会导致另一个的变化。\n",
    "a = torch.ones(5)\n",
    "a"
   ],
   "metadata": {
    "collapsed": false,
    "pycharm": {
     "name": "#%%\n"
    }
   }
  },
  {
   "cell_type": "code",
   "execution_count": 14,
   "outputs": [
    {
     "data": {
      "text/plain": "array([1., 1., 1., 1., 1.], dtype=float32)"
     },
     "execution_count": 14,
     "metadata": {},
     "output_type": "execute_result"
    }
   ],
   "source": [
    "b = a.numpy()\n",
    "b"
   ],
   "metadata": {
    "collapsed": false,
    "pycharm": {
     "name": "#%%\n"
    }
   }
  },
  {
   "cell_type": "code",
   "execution_count": 15,
   "outputs": [
    {
     "name": "stdout",
     "output_type": "stream",
     "text": [
      "[2. 2. 2. 2. 2.]\n"
     ]
    }
   ],
   "source": [
    "a.add_(1)\n",
    "print(b)"
   ],
   "metadata": {
    "collapsed": false,
    "pycharm": {
     "name": "#%%\n"
    }
   }
  },
  {
   "cell_type": "code",
   "execution_count": 16,
   "outputs": [
    {
     "name": "stdout",
     "output_type": "stream",
     "text": [
      "[2. 2. 2. 2. 2.]\n",
      "tensor([2., 2., 2., 2., 2.], dtype=torch.float64)\n"
     ]
    }
   ],
   "source": [
    "import numpy as np\n",
    "a = np.ones(5)\n",
    "b = torch.from_numpy(a)\n",
    "np.add(a,1,out= a)\n",
    "print(a)\n",
    "print(b)"
   ],
   "metadata": {
    "collapsed": false,
    "pycharm": {
     "name": "#%%\n"
    }
   }
  },
  {
   "cell_type": "code",
   "execution_count": 17,
   "outputs": [],
   "source": [
    "x = torch.randn(1000,1000)"
   ],
   "metadata": {
    "collapsed": false,
    "pycharm": {
     "name": "#%%\n"
    }
   }
  },
  {
   "cell_type": "code",
   "execution_count": 18,
   "outputs": [
    {
     "name": "stdout",
     "output_type": "stream",
     "text": [
      "tensor([[ 2.0047, -1.1578,  2.2934,  ...,  1.5786, -0.1117,  1.1788],\n",
      "        [ 2.9665,  2.2422,  1.7742,  ...,  2.2433,  0.1254,  1.8226],\n",
      "        [ 1.8942,  0.8489,  1.8689,  ...,  0.9646,  0.6464, -0.3662],\n",
      "        ...,\n",
      "        [ 0.7655, -0.4733,  0.8977,  ...,  0.8139, -0.6237, -0.1851],\n",
      "        [ 0.8395,  2.3474,  2.9089,  ...,  2.5486, -1.6350,  0.9559],\n",
      "        [ 2.0138,  1.8968,  0.5009,  ...,  2.1168,  0.6904,  2.0379]],\n",
      "       device='cuda:0')\n",
      "tensor([[ 2.0047, -1.1578,  2.2934,  ...,  1.5786, -0.1117,  1.1788],\n",
      "        [ 2.9665,  2.2422,  1.7742,  ...,  2.2433,  0.1254,  1.8226],\n",
      "        [ 1.8942,  0.8489,  1.8689,  ...,  0.9646,  0.6464, -0.3662],\n",
      "        ...,\n",
      "        [ 0.7655, -0.4733,  0.8977,  ...,  0.8139, -0.6237, -0.1851],\n",
      "        [ 0.8395,  2.3474,  2.9089,  ...,  2.5486, -1.6350,  0.9559],\n",
      "        [ 2.0138,  1.8968,  0.5009,  ...,  2.1168,  0.6904,  2.0379]],\n",
      "       dtype=torch.float64)\n"
     ]
    }
   ],
   "source": [
    "# 所有的 Tensor 类型默认都是基于CPU， CharTensor 类型不支持到 NumPy 的转换.\n",
    "if torch.cuda.is_available():\n",
    "    device = torch.device(\"cuda\")\n",
    "    y = torch.ones_like(x,device=device)\n",
    "    x = x.to(device)\n",
    "    z = x+y\n",
    "    print(z)\n",
    "    print(z.to(\"cpu\",torch.double))"
   ],
   "metadata": {
    "collapsed": false,
    "pycharm": {
     "name": "#%%\n"
    }
   }
  }
 ],
 "metadata": {
  "kernelspec": {
   "display_name": "Python 3",
   "language": "python",
   "name": "python3"
  },
  "language_info": {
   "codemirror_mode": {
    "name": "ipython",
    "version": 2
   },
   "file_extension": ".py",
   "mimetype": "text/x-python",
   "name": "python",
   "nbconvert_exporter": "python",
   "pygments_lexer": "ipython2",
   "version": "2.7.6"
  }
 },
 "nbformat": 4,
 "nbformat_minor": 0
}