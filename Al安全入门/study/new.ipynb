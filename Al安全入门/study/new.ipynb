{
 "cells": [
  {
   "cell_type": "code",
   "execution_count": 1,
   "metadata": {},
   "outputs": [],
   "source": [
    "import torch"
   ]
  },
  {
   "cell_type": "code",
   "execution_count": 2,
   "metadata": {
    "collapsed": false,
    "jupyter": {
     "outputs_hidden": false
    },
    "pycharm": {
     "name": "#%%\n"
    }
   },
   "outputs": [
    {
     "output_type": "execute_result",
     "data": {
      "text/plain": [
       "tensor([[1., 1.],\n",
       "        [1., 1.],\n",
       "        [1., 1.]])"
      ]
     },
     "metadata": {},
     "execution_count": 2
    }
   ],
   "source": [
    "a  = torch.ones((3,2))\n",
    "a"
   ]
  },
  {
   "cell_type": "code",
   "execution_count": 3,
   "metadata": {
    "collapsed": false,
    "jupyter": {
     "outputs_hidden": false
    },
    "pycharm": {
     "name": "#%%\n"
    }
   },
   "outputs": [
    {
     "output_type": "execute_result",
     "data": {
      "text/plain": [
       "tensor([[0., 0., 0.],\n",
       "        [0., 0., 0.],\n",
       "        [0., 0., 0.]])"
      ]
     },
     "metadata": {},
     "execution_count": 3
    }
   ],
   "source": [
    "x = torch.eye(5,5)\n",
    "x.new_zeros(3,3)"
   ]
  },
  {
   "cell_type": "code",
   "execution_count": 4,
   "metadata": {
    "collapsed": false,
    "jupyter": {
     "outputs_hidden": false
    },
    "pycharm": {
     "name": "#%%\n"
    }
   },
   "outputs": [
    {
     "output_type": "execute_result",
     "data": {
      "text/plain": [
       "device(type='cuda', index=0)"
      ]
     },
     "metadata": {},
     "execution_count": 4
    }
   ],
   "source": [
    "x = torch.randn(3,3,device='cuda:0')\n",
    "x.device"
   ]
  },
  {
   "cell_type": "code",
   "execution_count": 5,
   "metadata": {
    "collapsed": false,
    "jupyter": {
     "outputs_hidden": false
    },
    "pycharm": {
     "name": "#%%\n"
    }
   },
   "outputs": [
    {
     "output_type": "execute_result",
     "data": {
      "text/plain": [
       "device(type='cuda', index=0)"
      ]
     },
     "metadata": {},
     "execution_count": 5
    }
   ],
   "source": [
    "x = x.cpu()\n",
    "x.device\n",
    "x = x.cuda(0)\n",
    "x.device"
   ]
  },
  {
   "cell_type": "code",
   "execution_count": 6,
   "metadata": {
    "collapsed": false,
    "jupyter": {
     "outputs_hidden": false
    },
    "pycharm": {
     "name": "#%%\n"
    }
   },
   "outputs": [
    {
     "output_type": "stream",
     "name": "stdout",
     "text": [
      "torch.Size([3, 3])\ntorch.Size([3, 3])\n<built-in method data_ptr of Tensor object at 0x00000289738D8CC8> <built-in method data_ptr of Tensor object at 0x00000289738DF688>\n"
     ]
    }
   ],
   "source": [
    "print(x.shape)\n",
    "print(x.size())\n",
    "# print(x.view(1,-1))\n",
    "print(x.data_ptr,x.view(1,9).data_ptr)"
   ]
  },
  {
   "cell_type": "code",
   "execution_count": 7,
   "metadata": {
    "collapsed": false,
    "jupyter": {
     "outputs_hidden": false
    },
    "pycharm": {
     "name": "#%%\n"
    }
   },
   "outputs": [
    {
     "output_type": "execute_result",
     "data": {
      "text/plain": [
       "(tensor([[-1.8636, -1.0689, -0.9224],\n",
       "         [-0.5398,  0.2517, -0.9596],\n",
       "         [ 0.5677, -0.3610, -0.0455]], device='cuda:0'),\n",
       " torch.return_types.max(\n",
       " values=tensor([-0.9224,  0.2517,  0.5677], device='cuda:0'),\n",
       " indices=tensor([2, 1, 0], device='cuda:0')))"
      ]
     },
     "metadata": {},
     "execution_count": 7
    }
   ],
   "source": [
    "x,x.max(-1)"
   ]
  },
  {
   "cell_type": "code",
   "execution_count": 8,
   "metadata": {
    "collapsed": false,
    "jupyter": {
     "outputs_hidden": false
    },
    "pycharm": {
     "name": "#%%\n"
    }
   },
   "outputs": [],
   "source": [
    "t1 = torch.randn(3,4)\n",
    "t2 = torch.randn(3,4)\n",
    "t3 = torch.randn(3,4)\n",
    "t4 = torch.randn(3,2)"
   ]
  },
  {
   "cell_type": "code",
   "execution_count": 9,
   "metadata": {
    "collapsed": false,
    "jupyter": {
     "outputs_hidden": false
    },
    "pycharm": {
     "name": "#%%\n"
    }
   },
   "outputs": [
    {
     "output_type": "execute_result",
     "data": {
      "text/plain": [
       "(tensor([[-0.5291,  1.2467, -0.8162,  0.3413],\n",
       "         [ 0.2377,  0.5647, -1.1754, -0.5825],\n",
       "         [-0.1641, -1.3494, -0.2904, -2.6672]]),\n",
       " tensor([[ 2.4000,  0.0631,  0.9667, -0.2470],\n",
       "         [ 0.9334, -0.1718,  1.4099, -0.7701],\n",
       "         [ 0.2211,  0.3295, -1.5076, -0.8000]]),\n",
       " tensor([[-0.1156, -1.0504, -0.1598, -0.1879],\n",
       "         [-0.4930, -0.8169, -0.1404,  0.8201],\n",
       "         [-0.5145, -1.0097, -0.3850,  1.0979]]))"
      ]
     },
     "metadata": {},
     "execution_count": 9
    }
   ],
   "source": [
    "t1,t2,t3"
   ]
  },
  {
   "cell_type": "code",
   "execution_count": 10,
   "metadata": {
    "collapsed": false,
    "jupyter": {
     "outputs_hidden": false
    },
    "pycharm": {
     "name": "#%%\n"
    }
   },
   "outputs": [
    {
     "output_type": "execute_result",
     "data": {
      "text/plain": [
       "(2,\n",
       " tensor([[[-0.5291,  1.2467, -0.8162,  0.3413],\n",
       "          [ 2.4000,  0.0631,  0.9667, -0.2470],\n",
       "          [-0.1156, -1.0504, -0.1598, -0.1879]],\n",
       " \n",
       "         [[ 0.2377,  0.5647, -1.1754, -0.5825],\n",
       "          [ 0.9334, -0.1718,  1.4099, -0.7701],\n",
       "          [-0.4930, -0.8169, -0.1404,  0.8201]],\n",
       " \n",
       "         [[-0.1641, -1.3494, -0.2904, -2.6672],\n",
       "          [ 0.2211,  0.3295, -1.5076, -0.8000],\n",
       "          [-0.5145, -1.0097, -0.3850,  1.0979]]]))"
      ]
     },
     "metadata": {},
     "execution_count": 10
    }
   ],
   "source": [
    "t1.ndimension(),torch.stack([t1,t2,t3],1)"
   ]
  },
  {
   "cell_type": "code",
   "execution_count": 11,
   "metadata": {
    "collapsed": false,
    "jupyter": {
     "outputs_hidden": false
    },
    "pycharm": {
     "name": "#%%\n"
    }
   },
   "outputs": [
    {
     "output_type": "execute_result",
     "data": {
      "text/plain": [
       "tensor([[-0.5291,  1.2467, -0.8162,  0.3413,  2.4000,  0.0631,  0.9667, -0.2470,\n",
       "         -0.1156, -1.0504, -0.1598, -0.1879],\n",
       "        [ 0.2377,  0.5647, -1.1754, -0.5825,  0.9334, -0.1718,  1.4099, -0.7701,\n",
       "         -0.4930, -0.8169, -0.1404,  0.8201],\n",
       "        [-0.1641, -1.3494, -0.2904, -2.6672,  0.2211,  0.3295, -1.5076, -0.8000,\n",
       "         -0.5145, -1.0097, -0.3850,  1.0979]])"
      ]
     },
     "metadata": {},
     "execution_count": 11
    }
   ],
   "source": [
    "torch.cat([t1,t2,t3],-1)"
   ]
  },
  {
   "cell_type": "code",
   "execution_count": 42,
   "metadata": {},
   "outputs": [
    {
     "output_type": "execute_result",
     "data": {
      "text/plain": [
       "(tensor([[-1.3888,  0.9773,  1.5808, -0.8999, -0.0387,  1.6684,  1.0894, -1.5779,\n",
       "           0.2512, -0.3409],\n",
       "         [ 0.3629, -0.3850,  0.3795, -0.2220,  0.6631,  0.3088,  2.1291, -0.0434,\n",
       "          -0.1849, -0.3213],\n",
       "         [ 0.3321,  0.6361,  0.5239, -0.0194,  1.2731, -0.0492, -0.4647, -0.8944,\n",
       "           0.6950, -0.4806]]),\n",
       " torch.return_types.max(\n",
       " values=tensor([1.6684, 2.1291, 1.2731]),\n",
       " indices=tensor([5, 6, 4])))"
      ]
     },
     "metadata": {},
     "execution_count": 42
    }
   ],
   "source": [
    "x = torch.randn(3,10)\n",
    "x,x.max(1)"
   ]
  },
  {
   "cell_type": "code",
   "execution_count": 49,
   "metadata": {},
   "outputs": [
    {
     "output_type": "execute_result",
     "data": {
      "text/plain": [
       "0"
      ]
     },
     "metadata": {},
     "execution_count": 49
    }
   ],
   "source": [
    "_,predicted = x.max(1)\n",
    "predicted\n",
    "target = torch.zeros(3)\n",
    "# target[4] = 1\n",
    "target.size()\n",
    "# predicted\n",
    "predicted.eq(target).sum().item()"
   ]
  }
 ],
 "metadata": {
  "kernelspec": {
   "display_name": "Python 3",
   "language": "python",
   "name": "python3"
  },
  "language_info": {
   "codemirror_mode": {
    "name": "ipython",
    "version": 3
   },
   "file_extension": ".py",
   "mimetype": "text/x-python",
   "name": "python",
   "nbconvert_exporter": "python",
   "pygments_lexer": "ipython3",
   "version": "3.7.8-final"
  }
 },
 "nbformat": 4,
 "nbformat_minor": 4
}