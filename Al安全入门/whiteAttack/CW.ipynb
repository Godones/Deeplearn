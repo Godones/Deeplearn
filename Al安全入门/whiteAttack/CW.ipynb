{
 "cells": [
  {
   "cell_type": "code",
   "execution_count": 6,
   "metadata": {
    "collapsed": true
   },
   "outputs": [],
   "source": [
    "import torch\n",
    "import torchvision\n",
    "from torchvision import datasets, transforms\n",
    "from torch.autograd import Variable\n",
    "from torch.autograd.gradcheck import zero_gradients\n",
    "import torch.utils.data.dataloader as Data\n",
    "import torch.nn as nn\n",
    "from torchvision import models\n",
    "import numpy as np\n",
    "import cv2\n",
    "import matplotlib.pyplot as plt"
   ]
  },
  {
   "cell_type": "code",
   "execution_count": 7,
   "outputs": [],
   "source": [
    "#对比展现原始图片和对抗样本图片\n",
    "def show_images_diff(original_img,original_label,adversarial_img,adversarial_label):\n",
    "    plt.figure()\n",
    "    #归一化\n",
    "    if original_img.any() > 1.0:\n",
    "        original_img=original_img/255.0\n",
    "    if adversarial_img.any() > 1.0:\n",
    "        adversarial_img=adversarial_img/255.0\n",
    "\n",
    "    plt.subplot(131)\n",
    "    plt.title('Original')\n",
    "    plt.imshow(original_img)\n",
    "    plt.axis('off')\n",
    "\n",
    "    plt.subplot(132)\n",
    "    plt.title('Adversarial')\n",
    "    plt.imshow(adversarial_img)\n",
    "    plt.axis('off')\n",
    "\n",
    "    plt.subplot(133)\n",
    "    plt.title('Adversarial-Original')\n",
    "    difference = adversarial_img - original_img\n",
    "    #(-1,1)  -> (0,1)\n",
    "    difference=difference / abs(difference).max()/2.0+0.5\n",
    "    plt.imshow(difference,cmap=plt.cm.gray)\n",
    "    plt.axis('off')\n",
    "    plt.tight_layout()\n",
    "    plt.show()\n"
   ],
   "metadata": {
    "collapsed": false,
    "pycharm": {
     "name": "#%%\n"
    }
   }
  },
  {
   "cell_type": "code",
   "execution_count": 8,
   "outputs": [
    {
     "name": "stdout",
     "output_type": "stream",
     "text": [
      "(1, 3, 224, 224)\n"
     ]
    }
   ],
   "source": [
    "\n",
    "#获取计算设备 默认是CPU\n",
    "device = torch.device(\"cuda\" if torch.cuda.is_available() else \"cpu\")\n",
    "\n",
    "#图像加载以及预处理\n",
    "image_path=\"cropped_panda.jpg\"\n",
    "orig = cv2.imread(image_path)[..., ::-1]\n",
    "orig = cv2.resize(orig, (224, 224))\n",
    "img = orig.copy().astype(np.float32)\n",
    "\n",
    "mean = [0.485, 0.456, 0.406]\n",
    "std = [0.229, 0.224, 0.225]\n",
    "img /= 255.0\n",
    "img = (img - mean) / std\n",
    "img = img.transpose(2, 0, 1)\n",
    "\n",
    "img=np.expand_dims(img, axis=0)\n",
    "\n",
    "print(img.shape)\n",
    "\n",
    "#使用预测模式 主要影响droupout和BN层的行为\n",
    "model = models.alexnet(pretrained=True).to(device).eval()"
   ],
   "metadata": {
    "collapsed": false,
    "pycharm": {
     "name": "#%%\n"
    }
   }
  },
  {
   "cell_type": "code",
   "execution_count": 9,
   "outputs": [
    {
     "name": "stdout",
     "output_type": "stream",
     "text": [
      "\n"
     ]
    }
   ],
   "source": [
    "#adam的最大迭代次数 论文中建议10000次 测试阶段1000也可以 1000次可以完成95%的优化工作\n",
    "max_iterations=1000\n",
    "#adam学习速率\n",
    "learning_rate=0.01\n",
    "#二分查找最大次数\n",
    "binary_search_steps=10\n",
    "#c的初始值\n",
    "initial_const=1e2\n",
    "confidence=initial_const\n",
    "#k值\n",
    "k=40\n",
    "#像素值区间\n",
    "boxmin = -3.0\n",
    "boxmax = 3.0\n",
    "\n",
    "#类别数 pytorch的实现里面是1000\n",
    "num_labels=1000\n",
    "\n",
    "#攻击目标标签 必须使用one hot编码\n",
    "target_label=288\n",
    "tlab=Variable(torch.from_numpy(np.eye(num_labels)[target_label]).to(device).float())\n",
    "\n",
    "\n",
    "print()\n",
    "\n",
    "shape = (1,3,224,224)"
   ],
   "metadata": {
    "collapsed": false,
    "pycharm": {
     "name": "#%%\n"
    }
   }
  },
  {
   "cell_type": "code",
   "execution_count": 10,
   "outputs": [],
   "source": [
    "#c的初始化边界\n",
    "lower_bound = 0\n",
    "c=initial_const\n",
    "upper_bound = 1e10\n",
    "\n",
    "# the best l2, score, and image attack\n",
    "o_bestl2 = 1e10\n",
    "o_bestscore = -1\n",
    "o_bestattack = [np.zeros(shape)]"
   ],
   "metadata": {
    "collapsed": false,
    "pycharm": {
     "name": "#%%\n"
    }
   }
  },
  {
   "cell_type": "code",
   "execution_count": 11,
   "outputs": [
    {
     "name": "stdout",
     "output_type": "stream",
     "text": [
      "o_bestl2=10000000000.0 confidence=100.0\n",
      "attack success l2=24.11794090270996 target_label=288\n",
      "iteration=100 loss=119.68744659423828 loss1=0.0 loss2=119.68744659423828\n",
      "iteration=200 loss=111.3397445678711 loss1=0.0 loss2=111.3397445678711\n",
      "iteration=300 loss=122.4394760131836 loss1=0.0 loss2=122.4394760131836\n",
      "iteration=400 loss=109.81194305419922 loss1=0.0 loss2=109.81194305419922\n",
      "iteration=500 loss=104.53744506835938 loss1=0.0 loss2=104.53744506835938\n",
      "iteration=600 loss=135.6235809326172 loss1=0.0 loss2=135.6235809326172\n",
      "iteration=700 loss=119.80172729492188 loss1=0.0 loss2=119.80172729492188\n",
      "iteration=800 loss=122.9797134399414 loss1=0.0 loss2=122.9797134399414\n",
      "iteration=900 loss=106.20708465576172 loss1=0.0 loss2=106.20708465576172\n",
      "iteration=1000 loss=157.34071350097656 loss1=0.0 loss2=157.34071350097656\n",
      "\n",
      "outer_step=0 confidence 100.0->50.0\n",
      "o_bestl2=24.11794090270996 confidence=50.0\n",
      "attack success l2=24.034883499145508 target_label=288\n",
      "iteration=100 loss=109.5623779296875 loss1=0.0 loss2=109.5623779296875\n",
      "iteration=200 loss=118.57489776611328 loss1=0.0 loss2=118.57489776611328\n",
      "iteration=300 loss=105.6634750366211 loss1=0.0 loss2=105.6634750366211\n",
      "iteration=400 loss=115.29632568359375 loss1=0.0 loss2=115.29632568359375\n",
      "iteration=500 loss=111.89871978759766 loss1=0.0 loss2=111.89871978759766\n",
      "iteration=600 loss=113.12516021728516 loss1=0.0 loss2=113.12516021728516\n",
      "iteration=700 loss=102.59268951416016 loss1=0.0 loss2=102.59268951416016\n",
      "iteration=800 loss=112.79319763183594 loss1=0.0 loss2=112.79319763183594\n",
      "iteration=900 loss=93.4966812133789 loss1=0.0 loss2=93.4966812133789\n",
      "iteration=1000 loss=111.27664184570312 loss1=0.0 loss2=111.27664184570312\n",
      "\n",
      "outer_step=1 confidence 50.0->25.0\n",
      "o_bestl2=24.034883499145508 confidence=25.0\n",
      "attack success l2=23.87195587158203 target_label=288\n",
      "iteration=100 loss=109.54660034179688 loss1=0.0 loss2=109.54660034179688\n",
      "iteration=200 loss=100.46424102783203 loss1=0.0 loss2=100.46424102783203\n",
      "iteration=300 loss=92.73957824707031 loss1=0.0 loss2=92.73957824707031\n",
      "iteration=400 loss=97.4556884765625 loss1=0.0 loss2=97.4556884765625\n",
      "iteration=500 loss=96.93607330322266 loss1=0.0 loss2=96.93607330322266\n",
      "iteration=600 loss=102.49285125732422 loss1=0.0 loss2=102.49285125732422\n",
      "iteration=700 loss=103.59615325927734 loss1=0.0 loss2=103.59615325927734\n",
      "iteration=800 loss=82.82096099853516 loss1=0.0 loss2=82.82096099853516\n",
      "iteration=900 loss=89.77281951904297 loss1=0.0 loss2=89.77281951904297\n",
      "iteration=1000 loss=85.36575317382812 loss1=0.0 loss2=85.36575317382812\n",
      "\n",
      "outer_step=2 confidence 25.0->12.5\n",
      "o_bestl2=23.87195587158203 confidence=12.5\n",
      "attack success l2=23.544824600219727 target_label=288\n",
      "iteration=100 loss=98.54579162597656 loss1=0.0 loss2=98.54579162597656\n",
      "iteration=200 loss=81.91158294677734 loss1=0.0 loss2=81.91158294677734\n",
      "iteration=300 loss=79.85198974609375 loss1=0.0 loss2=79.85198974609375\n",
      "iteration=400 loss=85.53643798828125 loss1=5.246448516845703 loss2=80.28999328613281\n",
      "iteration=500 loss=84.85694885253906 loss1=0.0 loss2=84.85694885253906\n",
      "iteration=600 loss=81.75906372070312 loss1=0.0 loss2=81.75906372070312\n",
      "iteration=700 loss=72.7258529663086 loss1=1.7116546630859375 loss2=71.01419830322266\n",
      "iteration=800 loss=71.46780395507812 loss1=0.0 loss2=71.46780395507812\n",
      "iteration=900 loss=79.66024017333984 loss1=0.0 loss2=79.66024017333984\n",
      "iteration=1000 loss=74.42996215820312 loss1=0.0 loss2=74.42996215820312\n",
      "\n",
      "outer_step=3 confidence 12.5->6.25\n",
      "o_bestl2=23.544824600219727 confidence=6.25\n",
      "attack success l2=22.907657623291016 target_label=288\n",
      "iteration=100 loss=84.9219741821289 loss1=0.0 loss2=84.9219741821289\n",
      "iteration=200 loss=74.10065460205078 loss1=5.020380020141602 loss2=69.08027648925781\n",
      "iteration=300 loss=64.0666732788086 loss1=0.0 loss2=64.0666732788086\n",
      "iteration=400 loss=60.92085266113281 loss1=0.0 loss2=60.92085266113281\n",
      "iteration=500 loss=65.83294677734375 loss1=0.0 loss2=65.83294677734375\n",
      "iteration=600 loss=62.033790588378906 loss1=0.0 loss2=62.033790588378906\n",
      "iteration=700 loss=59.818851470947266 loss1=0.0 loss2=59.818851470947266\n",
      "iteration=800 loss=64.85884094238281 loss1=5.242109298706055 loss2=59.61673355102539\n"
     ]
    },
    {
     "ename": "KeyboardInterrupt",
     "evalue": "",
     "output_type": "error",
     "traceback": [
      "\u001B[1;31m---------------------------------------------------------------------------\u001B[0m",
      "\u001B[1;31mKeyboardInterrupt\u001B[0m                         Traceback (most recent call last)",
      "\u001B[1;32m<ipython-input-11-9b56bcddfd05>\u001B[0m in \u001B[0;36m<module>\u001B[1;34m\u001B[0m\n\u001B[0;32m     62\u001B[0m         \u001B[0ml2\u001B[0m\u001B[1;33m=\u001B[0m\u001B[0mloss2\u001B[0m\u001B[1;33m\u001B[0m\u001B[1;33m\u001B[0m\u001B[0m\n\u001B[0;32m     63\u001B[0m \u001B[1;33m\u001B[0m\u001B[0m\n\u001B[1;32m---> 64\u001B[1;33m         \u001B[0msc\u001B[0m\u001B[1;33m=\u001B[0m\u001B[0moutput\u001B[0m\u001B[1;33m.\u001B[0m\u001B[0mdata\u001B[0m\u001B[1;33m.\u001B[0m\u001B[0mcpu\u001B[0m\u001B[1;33m(\u001B[0m\u001B[1;33m)\u001B[0m\u001B[1;33m.\u001B[0m\u001B[0mnumpy\u001B[0m\u001B[1;33m(\u001B[0m\u001B[1;33m)\u001B[0m\u001B[1;33m\u001B[0m\u001B[1;33m\u001B[0m\u001B[0m\n\u001B[0m\u001B[0;32m     65\u001B[0m \u001B[1;33m\u001B[0m\u001B[0m\n\u001B[0;32m     66\u001B[0m         \u001B[1;31m# print out the losses every 10%\u001B[0m\u001B[1;33m\u001B[0m\u001B[1;33m\u001B[0m\u001B[1;33m\u001B[0m\u001B[0m\n",
      "\u001B[1;31mKeyboardInterrupt\u001B[0m: "
     ]
    }
   ],
   "source": [
    "# the resulting image, tanh'd to keep bounded from boxmin to boxmax\n",
    "boxmul = (boxmax - boxmin) / 2.\n",
    "boxplus = (boxmin + boxmax) / 2.\n",
    "\n",
    "for outer_step in range(binary_search_steps):\n",
    "    print(\"o_bestl2={} confidence={}\".format(o_bestl2,confidence)  )\n",
    "\n",
    "    #把原始图像转换成图像数据和扰动的形态\n",
    "    timg = Variable(torch.from_numpy(np.arctanh((img - boxplus) / boxmul * 0.999999)).to(device).float())\n",
    "    modifier=Variable(torch.zeros_like(timg).to(device).float())\n",
    "\n",
    "    #设置为不保存梯度值 自然也无法修改\n",
    "    #for param in model.parameters():\n",
    "    #    param.requires_grad = False\n",
    "\n",
    "    #图像数据的扰动量梯度可以获取\n",
    "    modifier.requires_grad = True\n",
    "\n",
    "    #定义优化器 仅优化modifier\n",
    "    optimizer = torch.optim.Adam([modifier],lr=learning_rate)\n",
    "\n",
    "    for iteration in range(1,max_iterations+1):\n",
    "        optimizer.zero_grad()\n",
    "\n",
    "        #定义新输入\n",
    "        newimg = torch.tanh(modifier + timg) * boxmul + boxplus\n",
    "\n",
    "        output=model(newimg)\n",
    "\n",
    "        #定义cw中的损失函数\n",
    "\n",
    "        #l2范数\n",
    "        #l2dist = tf.reduce_sum(tf.square(newimg-(tf.tanh(timg) * boxmul + boxplus)),[1,2,3])\n",
    "        #loss2 = tf.reduce_sum(l2dist)\n",
    "        loss2=torch.dist(newimg,(torch.tanh(timg) * boxmul + boxplus),p=2)\n",
    "\n",
    "        \"\"\"\n",
    "        # compute the probability of the label class versus the maximum other\n",
    "            real = tf.reduce_sum((tlab)*output,1)\n",
    "            # 论文中的开源实现 other = tf.reduce_max((1-tlab)*output - (tlab*10000),1)\n",
    "            other = tf.reduce_max((1-tlab)*output)\n",
    "            loss1 = tf.maximum(0.0, other-real+k)\n",
    "            loss1 = tf.reduce_sum(const*loss1)\n",
    "        \"\"\"\n",
    "\n",
    "        real=torch.max(output*tlab)\n",
    "        other=torch.max((1-tlab)*output)\n",
    "        loss1=other-real+k\n",
    "        loss1=torch.clamp(loss1,min=0)\n",
    "\n",
    "        loss1=confidence*loss1\n",
    "\n",
    "        loss=loss1+loss2\n",
    "\n",
    "\n",
    "        loss.backward(retain_graph=True)\n",
    "\n",
    "        optimizer.step()\n",
    "\n",
    "        l2=loss2\n",
    "\n",
    "        sc=output.data.cpu().numpy()\n",
    "\n",
    "        # print out the losses every 10%\n",
    "        if iteration%(max_iterations//10) == 0:\n",
    "            print(\"iteration={} loss={} loss1={} loss2={}\".format(iteration,loss,loss1,loss2))\n",
    "\n",
    "        if (l2 < o_bestl2) and (np.argmax(sc) == target_label  ):\n",
    "            print(\"attack success l2={} target_label={}\".format(l2,target_label))\n",
    "            o_bestl2 = l2\n",
    "            o_bestscore = np.argmax(sc)\n",
    "            o_bestattack = newimg.data.cpu().numpy()\n",
    "\n",
    "    confidence_old=-1\n",
    "    if (o_bestscore == target_label) and o_bestscore != -1:\n",
    "        #攻击成功 减小c\n",
    "        upper_bound = min(upper_bound,confidence)\n",
    "        if upper_bound < 1e9:\n",
    "                print()\n",
    "                confidence_old=confidence\n",
    "                confidence = (lower_bound + upper_bound)/2\n",
    "    else:\n",
    "        lower_bound = max(lower_bound,confidence)\n",
    "        confidence_old=confidence\n",
    "        if upper_bound < 1e9:\n",
    "                confidence = (lower_bound + upper_bound)/2\n",
    "        else:\n",
    "                confidence *= 10\n",
    "\n",
    "    print(\"outer_step={} confidence {}->{}\".format(outer_step,confidence_old,confidence))"
   ],
   "metadata": {
    "collapsed": false,
    "pycharm": {
     "name": "#%%\n"
    }
   }
  },
  {
   "cell_type": "code",
   "execution_count": null,
   "outputs": [],
   "source": [
    "print(o_bestattack.shape)\n",
    "print(img.shape)"
   ],
   "metadata": {
    "collapsed": false,
    "pycharm": {
     "name": "#%%\n"
    }
   }
  },
  {
   "cell_type": "code",
   "execution_count": null,
   "outputs": [],
   "source": [
    "adv=o_bestattack[0]\n",
    "print(adv.shape)\n",
    "adv = adv.transpose(1, 2, 0)\n",
    "adv = (adv * std) + mean\n",
    "adv = adv * 255.0\n",
    "adv = np.clip(adv, 0, 255).astype(np.uint8)\n",
    "show_images_diff(orig,0,adv,0)"
   ],
   "metadata": {
    "collapsed": false,
    "pycharm": {
     "name": "#%%\n"
    }
   }
  }
 ],
 "metadata": {
  "kernelspec": {
   "display_name": "Python 3",
   "language": "python",
   "name": "python3"
  },
  "language_info": {
   "codemirror_mode": {
    "name": "ipython",
    "version": 2
   },
   "file_extension": ".py",
   "mimetype": "text/x-python",
   "name": "python",
   "nbconvert_exporter": "python",
   "pygments_lexer": "ipython2",
   "version": "2.7.6"
  }
 },
 "nbformat": 4,
 "nbformat_minor": 0
}