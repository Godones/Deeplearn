{
 "cells": [
  {
   "cell_type": "code",
   "execution_count": null,
   "metadata": {
    "collapsed": true,
    "pycharm": {
     "is_executing": true
    }
   },
   "outputs": [],
   "source": [
    "import torch\n",
    "import torchvision\n",
    "from torchvision import datasets, transforms\n",
    "import torch.utils.data.dataloader as Data\n",
    "import torch.nn as nn\n",
    "from torchvision import models\n",
    "import numpy as np\n",
    "import cv2\n",
    "import matplotlib.pyplot as plt\n",
    "from torch.autograd.gradcheck import zero_gradients"
   ]
  },
  {
   "cell_type": "code",
   "execution_count": null,
   "outputs": [],
   "source": [
    "#对比展现原始图片和对抗样本图片\n",
    "def show_images_diff(original_img,original_label,adversarial_img,adversarial_label):\n",
    "    plt.figure()\n",
    "    #归一化\n",
    "    if original_img.any() > 1.0:\n",
    "        original_img=original_img/255.0\n",
    "    if adversarial_img.any() > 1.0:\n",
    "        adversarial_img=adversarial_img/255.0\n",
    "\n",
    "    plt.subplot(131)\n",
    "    plt.title('Original')\n",
    "    plt.imshow(original_img)\n",
    "    plt.axis('off')\n",
    "\n",
    "    plt.subplot(132)\n",
    "    plt.title('Adversarial')\n",
    "    plt.imshow(adversarial_img)\n",
    "    plt.axis('off')\n",
    "\n",
    "    plt.subplot(133)\n",
    "    plt.title('Adversarial-Original')\n",
    "    difference = adversarial_img - original_img\n",
    "    #(-1,1)  -> (0,1)\n",
    "    difference=difference / abs(difference).max()/2.0+0.5\n",
    "    plt.imshow(difference,cmap=plt.cm.gray)\n",
    "    plt.axis('off')\n",
    "    plt.tight_layout()\n",
    "    plt.show()\n"
   ],
   "metadata": {
    "collapsed": false,
    "pycharm": {
     "name": "#%%\n",
     "is_executing": true
    }
   }
  },
  {
   "cell_type": "code",
   "execution_count": null,
   "outputs": [],
   "source": [
    "#获取计算设备 默认是CPU\n",
    "device = torch.device(\"cuda\" if torch.cuda.is_available() else \"cpu\")\n",
    "#图像加载以及预处理\n",
    "orig = cv2.imread('test_im1.jpg')[..., ::-1]\n",
    "print(orig.shape)\n",
    "\n",
    "orig = cv2.resize(orig, (224, 224))\n",
    "\n",
    "print(orig.shape)\n",
    "img = orig.copy().astype(np.float32)\n",
    "\n",
    "mean = [0.485, 0.456, 0.406]\n",
    "std = [0.229, 0.224, 0.225]\n",
    "img /= 255.0\n",
    "img = (img - mean) / std\n",
    "img = img.transpose(2, 0, 1)\n",
    "\n",
    "img=np.expand_dims(img, axis=0)\n",
    "\n",
    "img = torch.from_numpy(img).to(device).float()\n",
    "print(img.shape)\n",
    "\n",
    "#使用预测模式 主要影响droupout和BN层的行为\n",
    "model = models.alexnet(pretrained=True).to(device).eval()\n",
    "orig_label=np.argmax(model(img).data.cpu().numpy())\n",
    "print(\"orig_label={}\".format(orig_label))"
   ],
   "metadata": {
    "collapsed": false,
    "pycharm": {
     "name": "#%%\n",
     "is_executing": true
    }
   }
  },
  {
   "cell_type": "code",
   "execution_count": null,
   "outputs": [],
   "source": [
    "#图像数据梯度可以获取\n",
    "img.requires_grad = True\n",
    "\n",
    "#设置为不保存梯度值 自然也无法修改\n",
    "for param in model.parameters():\n",
    "    param.requires_grad = False\n",
    "\n",
    "#最大迭代次数\n",
    "epochs=100\n",
    "#used as a termination criterion to prevent vanishing updates\n",
    "# 增益系数\n",
    "overshoot=0.02\n",
    "#类别数\n",
    "num_classes=1000\n",
    "# forward\n",
    "output = model(img)\n",
    "##原预测\n",
    "input_shape = img.cpu().detach().numpy().shape\n",
    "\n",
    "w = np.zeros(input_shape)\n",
    "r_tot = np.zeros(input_shape)\n",
    "output.shape"
   ],
   "metadata": {
    "collapsed": false,
    "pycharm": {
     "name": "#%%\n",
     "is_executing": true
    }
   }
  },
  {
   "cell_type": "code",
   "execution_count": null,
   "outputs": [],
   "source": [
    "for epoch in range(epochs):\n",
    "    scores=model(img).data.cpu().numpy()[0]\n",
    "    label=np.argmax(scores)\n",
    "    print(\"epoch={} label={} score={}\".format(epoch,label,scores[label]))\n",
    "\n",
    "    #如果无定向攻击成功\n",
    "    if label != orig_label:\n",
    "        break\n",
    "    # 初始化最小移动距离为无穷小\n",
    "    pert = np.inf\n",
    "    output[0, orig_label].backward(retain_graph=True)\n",
    "    grad_orig = img.grad.data.cpu().numpy().copy()\n",
    "\n",
    "    for k in range(1, num_classes):\n",
    "\n",
    "        if k == orig_label:\n",
    "            continue\n",
    "\n",
    "        #梯度清零\n",
    "        zero_gradients(img)\n",
    "\n",
    "        output[0, k].backward(retain_graph=True)\n",
    "        cur_grad = img.grad.data.cpu().numpy().copy()\n",
    "\n",
    "        # set new w_k and new f_k\n",
    "        w_k = cur_grad - grad_orig\n",
    "        f_k = (output[0, k] - output[0, orig_label]).data.cpu().numpy()\n",
    "\n",
    "        pert_k = abs(f_k)/np.linalg.norm(w_k.flatten())\n",
    "\n",
    "        # 选择pert最小值\n",
    "        if pert_k < pert:\n",
    "            pert = pert_k\n",
    "            w = w_k\n",
    "\n",
    "    # 计算 r_i 和 r_tot\n",
    "    r_i =  (pert+1e-8) * w / np.linalg.norm(w)\n",
    "\n",
    "    r_tot = np.float32(r_tot + r_i)\n",
    "\n",
    "    img.data=img.data + (1+overshoot)*torch.from_numpy(r_tot).to(device)"
   ],
   "metadata": {
    "collapsed": false,
    "pycharm": {
     "name": "#%%\n",
     "is_executing": true
    }
   }
  },
  {
   "cell_type": "code",
   "execution_count": null,
   "outputs": [],
   "source": [
    "adv=img.data.cpu().numpy()[0]\n",
    "print(adv.shape)\n",
    "adv = adv.transpose(1, 2, 0)\n",
    "adv = (adv * std) + mean\n",
    "adv = adv * 255.0\n",
    "#adv = adv[..., ::-1]  # RGB to BGR\n",
    "adv = np.clip(adv, 0, 255).astype(np.uint8)\n",
    "\n",
    "show_images_diff(orig,orig_label,adv,label)\n",
    "\n"
   ],
   "metadata": {
    "collapsed": false,
    "pycharm": {
     "name": "#%%\n",
     "is_executing": true
    }
   }
  }
 ],
 "metadata": {
  "kernelspec": {
   "display_name": "Python 3",
   "language": "python",
   "name": "python3"
  },
  "language_info": {
   "codemirror_mode": {
    "name": "ipython",
    "version": 2
   },
   "file_extension": ".py",
   "mimetype": "text/x-python",
   "name": "python",
   "nbconvert_exporter": "python",
   "pygments_lexer": "ipython2",
   "version": "2.7.6"
  }
 },
 "nbformat": 4,
 "nbformat_minor": 0
}